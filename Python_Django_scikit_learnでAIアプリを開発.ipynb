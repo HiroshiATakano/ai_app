{
 "cells": [
  {
   "cell_type": "markdown",
   "id": "1a15d3f2",
   "metadata": {},
   "source": [
    "# ライブラリinput"
   ]
  },
  {
   "cell_type": "code",
   "execution_count": 1,
   "id": "522c832d",
   "metadata": {},
   "outputs": [
    {
     "name": "stdout",
     "output_type": "stream",
     "text": [
      "3.8.12 (default, Oct 12 2021, 13:49:34) \n",
      "[GCC 7.5.0]\n"
     ]
    }
   ],
   "source": [
    "import sys\n",
    "import pandas as pd\n",
    "from collections import Counter\n",
    "import string\n",
    "import jctconv\n",
    "import emoji\n",
    "import re\n",
    "\n",
    "print(sys.version)"
   ]
  },
  {
   "cell_type": "markdown",
   "id": "6055a09a",
   "metadata": {},
   "source": [
    "# データチェック"
   ]
  },
  {
   "cell_type": "code",
   "execution_count": 2,
   "id": "88164e0c",
   "metadata": {},
   "outputs": [],
   "source": [
    "df = pd.read_csv(\"all_rakuma.csv\")"
   ]
  },
  {
   "cell_type": "code",
   "execution_count": 3,
   "id": "f09f9cb4",
   "metadata": {},
   "outputs": [
    {
     "data": {
      "text/html": [
       "<div>\n",
       "<style scoped>\n",
       "    .dataframe tbody tr th:only-of-type {\n",
       "        vertical-align: middle;\n",
       "    }\n",
       "\n",
       "    .dataframe tbody tr th {\n",
       "        vertical-align: top;\n",
       "    }\n",
       "\n",
       "    .dataframe thead th {\n",
       "        text-align: right;\n",
       "    }\n",
       "</style>\n",
       "<table border=\"1\" class=\"dataframe\">\n",
       "  <thead>\n",
       "    <tr style=\"text-align: right;\">\n",
       "      <th></th>\n",
       "      <th>date</th>\n",
       "      <th>item_url</th>\n",
       "      <th>title</th>\n",
       "      <th>price</th>\n",
       "      <th>brand</th>\n",
       "      <th>category</th>\n",
       "      <th>good</th>\n",
       "      <th>bad</th>\n",
       "      <th>normal</th>\n",
       "      <th>ship_days</th>\n",
       "      <th>comments</th>\n",
       "      <th>last_log_date</th>\n",
       "      <th>good_counts</th>\n",
       "      <th>prefecture</th>\n",
       "      <th>delivery_fee</th>\n",
       "      <th>seller_url</th>\n",
       "      <th>size</th>\n",
       "      <th>picture_url</th>\n",
       "      <th>description</th>\n",
       "      <th>details_dict</th>\n",
       "    </tr>\n",
       "  </thead>\n",
       "  <tbody>\n",
       "    <tr>\n",
       "      <th>0</th>\n",
       "      <td>2019/10/08 23:39:51</td>\n",
       "      <td>https://item.fril.jp/055f4080a2a0ae275db6ba7be...</td>\n",
       "      <td>Epiphone LTD Korina Explorer Bass</td>\n",
       "      <td>40000</td>\n",
       "      <td>Epiphone</td>\n",
       "      <td>楽器 &gt; ベース &gt; エレキベース</td>\n",
       "      <td>109</td>\n",
       "      <td>0</td>\n",
       "      <td>0</td>\n",
       "      <td>1-2日後</td>\n",
       "      <td>NaN</td>\n",
       "      <td>2000-01-01</td>\n",
       "      <td>0</td>\n",
       "      <td>岐阜県</td>\n",
       "      <td>着払い</td>\n",
       "      <td>https://fril.jp/shop/42df208014145c438f96e01f5...</td>\n",
       "      <td>なし</td>\n",
       "      <td>https://img.fril.jp/img/259586636/l/734809353....</td>\n",
       "      <td>コリーナボディ ブラックピックガード ゴールドパーツの豪華なエクスプローラー コリーナ ...</td>\n",
       "      <td>{'カテゴリ': '楽器›ベース›エレキベース', 'サイズ': 'なし', 'ブランド':...</td>\n",
       "    </tr>\n",
       "    <tr>\n",
       "      <th>1</th>\n",
       "      <td>2019/10/08 23:39:51</td>\n",
       "      <td>https://item.fril.jp/896a1d0197d05cf8431c136d9...</td>\n",
       "      <td>TVB-100 (SUN)</td>\n",
       "      <td>38000</td>\n",
       "      <td>Electric Bass(R)</td>\n",
       "      <td>楽器 &gt; ベース &gt; エレキベース</td>\n",
       "      <td>8</td>\n",
       "      <td>0</td>\n",
       "      <td>0</td>\n",
       "      <td>1-2日後</td>\n",
       "      <td>['TOKYO GUITARS', '本モデルを含め、TOKYO GUITARS工房にて製造...</td>\n",
       "      <td>2019/08/31</td>\n",
       "      <td>0</td>\n",
       "      <td>東京都</td>\n",
       "      <td>送料込</td>\n",
       "      <td>https://fril.jp/shop/bb898547c8e0369f5f6621cce...</td>\n",
       "      <td>なし</td>\n",
       "      <td>https://img.fril.jp/img/223532100/l/635334018....</td>\n",
       "      <td>Tokyo Guitars モデル名 TVB 100  SUN   Tokyo Cust...</td>\n",
       "      <td>{'カテゴリ': '楽器›ベース›エレキベース', 'サイズ': 'なし', '商品の状態'...</td>\n",
       "    </tr>\n",
       "    <tr>\n",
       "      <th>2</th>\n",
       "      <td>2019/10/08 23:39:51</td>\n",
       "      <td>https://item.fril.jp/6bdb6b4dd0f6c518938b94ec2...</td>\n",
       "      <td>TRB-4000 (BL)</td>\n",
       "      <td>42000</td>\n",
       "      <td>Electric Bass(R)</td>\n",
       "      <td>楽器 &gt; ベース &gt; エレキベース</td>\n",
       "      <td>8</td>\n",
       "      <td>0</td>\n",
       "      <td>0</td>\n",
       "      <td>1-2日後</td>\n",
       "      <td>NaN</td>\n",
       "      <td>2000-01-01</td>\n",
       "      <td>0</td>\n",
       "      <td>東京都</td>\n",
       "      <td>送料込</td>\n",
       "      <td>https://fril.jp/shop/bb898547c8e0369f5f6621cce...</td>\n",
       "      <td>なし</td>\n",
       "      <td>https://img.fril.jp/img/223294381/l/634674588....</td>\n",
       "      <td>Tokyo Guitars モデル名 TRB 4000  BL   Tokyo Cust...</td>\n",
       "      <td>{'カテゴリ': '楽器›ベース›エレキベース', 'サイズ': 'なし', '商品の状態'...</td>\n",
       "    </tr>\n",
       "  </tbody>\n",
       "</table>\n",
       "</div>"
      ],
      "text/plain": [
       "                  date                                           item_url  \\\n",
       "0  2019/10/08 23:39:51  https://item.fril.jp/055f4080a2a0ae275db6ba7be...   \n",
       "1  2019/10/08 23:39:51  https://item.fril.jp/896a1d0197d05cf8431c136d9...   \n",
       "2  2019/10/08 23:39:51  https://item.fril.jp/6bdb6b4dd0f6c518938b94ec2...   \n",
       "\n",
       "                               title  price             brand  \\\n",
       "0  Epiphone LTD Korina Explorer Bass  40000          Epiphone   \n",
       "1                      TVB-100 (SUN)  38000  Electric Bass(R)   \n",
       "2                      TRB-4000 (BL)  42000  Electric Bass(R)   \n",
       "\n",
       "            category  good  bad  normal ship_days  \\\n",
       "0  楽器 > ベース > エレキベース   109    0       0     1-2日後   \n",
       "1  楽器 > ベース > エレキベース     8    0       0     1-2日後   \n",
       "2  楽器 > ベース > エレキベース     8    0       0     1-2日後   \n",
       "\n",
       "                                            comments last_log_date  \\\n",
       "0                                                NaN    2000-01-01   \n",
       "1  ['TOKYO GUITARS', '本モデルを含め、TOKYO GUITARS工房にて製造...    2019/08/31   \n",
       "2                                                NaN    2000-01-01   \n",
       "\n",
       "   good_counts prefecture delivery_fee  \\\n",
       "0            0        岐阜県          着払い   \n",
       "1            0        東京都          送料込   \n",
       "2            0        東京都          送料込   \n",
       "\n",
       "                                          seller_url size  \\\n",
       "0  https://fril.jp/shop/42df208014145c438f96e01f5...   なし   \n",
       "1  https://fril.jp/shop/bb898547c8e0369f5f6621cce...   なし   \n",
       "2  https://fril.jp/shop/bb898547c8e0369f5f6621cce...   なし   \n",
       "\n",
       "                                         picture_url  \\\n",
       "0  https://img.fril.jp/img/259586636/l/734809353....   \n",
       "1  https://img.fril.jp/img/223532100/l/635334018....   \n",
       "2  https://img.fril.jp/img/223294381/l/634674588....   \n",
       "\n",
       "                                         description  \\\n",
       "0    コリーナボディ ブラックピックガード ゴールドパーツの豪華なエクスプローラー コリーナ ...   \n",
       "1    Tokyo Guitars モデル名 TVB 100  SUN   Tokyo Cust...   \n",
       "2    Tokyo Guitars モデル名 TRB 4000  BL   Tokyo Cust...   \n",
       "\n",
       "                                        details_dict  \n",
       "0  {'カテゴリ': '楽器›ベース›エレキベース', 'サイズ': 'なし', 'ブランド':...  \n",
       "1  {'カテゴリ': '楽器›ベース›エレキベース', 'サイズ': 'なし', '商品の状態'...  \n",
       "2  {'カテゴリ': '楽器›ベース›エレキベース', 'サイズ': 'なし', '商品の状態'...  "
      ]
     },
     "execution_count": 3,
     "metadata": {},
     "output_type": "execute_result"
    }
   ],
   "source": [
    "df.head(3)"
   ]
  },
  {
   "cell_type": "code",
   "execution_count": 4,
   "id": "fdd6a1e6",
   "metadata": {},
   "outputs": [
    {
     "name": "stdout",
     "output_type": "stream",
     "text": [
      "<class 'pandas.core.frame.DataFrame'>\n",
      "RangeIndex: 122070 entries, 0 to 122069\n",
      "Data columns (total 20 columns):\n",
      " #   Column         Non-Null Count   Dtype \n",
      "---  ------         --------------   ----- \n",
      " 0   date           122070 non-null  object\n",
      " 1   item_url       122070 non-null  object\n",
      " 2   title          122070 non-null  object\n",
      " 3   price          122070 non-null  int64 \n",
      " 4   brand          122070 non-null  object\n",
      " 5   category       122070 non-null  object\n",
      " 6   good           122070 non-null  int64 \n",
      " 7   bad            122070 non-null  int64 \n",
      " 8   normal         122070 non-null  int64 \n",
      " 9   ship_days      122070 non-null  object\n",
      " 10  comments       11186 non-null   object\n",
      " 11  last_log_date  122070 non-null  object\n",
      " 12  good_counts    122070 non-null  int64 \n",
      " 13  prefecture     122070 non-null  object\n",
      " 14  delivery_fee   122070 non-null  object\n",
      " 15  seller_url     122070 non-null  object\n",
      " 16  size           122070 non-null  object\n",
      " 17  picture_url    122070 non-null  object\n",
      " 18  description    122066 non-null  object\n",
      " 19  details_dict   122070 non-null  object\n",
      "dtypes: int64(5), object(15)\n",
      "memory usage: 18.6+ MB\n"
     ]
    }
   ],
   "source": [
    "df.info()"
   ]
  },
  {
   "cell_type": "code",
   "execution_count": 5,
   "id": "9a875401",
   "metadata": {},
   "outputs": [
    {
     "data": {
      "text/plain": [
       "122070"
      ]
     },
     "execution_count": 5,
     "metadata": {},
     "output_type": "execute_result"
    }
   ],
   "source": [
    "len(df)"
   ]
  },
  {
   "cell_type": "code",
   "execution_count": 6,
   "id": "6e63ee81",
   "metadata": {},
   "outputs": [
    {
     "data": {
      "text/plain": [
       "1012"
      ]
     },
     "execution_count": 6,
     "metadata": {},
     "output_type": "execute_result"
    }
   ],
   "source": [
    "df.category.nunique()"
   ]
  },
  {
   "cell_type": "code",
   "execution_count": 7,
   "id": "aa857697",
   "metadata": {},
   "outputs": [
    {
     "data": {
      "text/plain": [
       "メンズ > 靴/シューズ > スニーカー                 9.174244\n",
       "エンタメ/ホビー > おもちゃ/ぬいぐるみ > キャラクターグッズ    8.975178\n",
       "エンタメ/ホビー > フィギュア > アニメ/ゲーム           5.418203\n",
       "エンタメ/ホビー > CD > ポップス/ロック(洋楽)         2.919636\n",
       "エンタメ/ホビー > フィギュア > 特撮                2.577210\n",
       "                                       ...   \n",
       "エンタメ/ホビー > 雑誌 > 絵本/児童書               0.000819\n",
       "スマホ/家電/カメラ > 冷暖房/空調 > その他            0.000819\n",
       "メンズ > ジャケット/アウター > ライダースジャケット        0.000819\n",
       "楽器 > DTM/DAW > DAWソフトウェア             0.000819\n",
       "エンタメ/ホビー > 漫画 > 女性漫画                 0.000819\n",
       "Name: category, Length: 1012, dtype: float64"
      ]
     },
     "execution_count": 7,
     "metadata": {},
     "output_type": "execute_result"
    }
   ],
   "source": [
    "df.category.value_counts() / len(df) * 100"
   ]
  },
  {
   "cell_type": "code",
   "execution_count": 8,
   "id": "0faa3c05",
   "metadata": {},
   "outputs": [],
   "source": [
    "ctg_df = df.category.value_counts().reset_index()"
   ]
  },
  {
   "cell_type": "code",
   "execution_count": 9,
   "id": "2e6c6e2f",
   "metadata": {},
   "outputs": [],
   "source": [
    "over1000_data = ctg_df[ctg_df.category > 1000]"
   ]
  },
  {
   "cell_type": "code",
   "execution_count": 10,
   "id": "b7c8983e",
   "metadata": {},
   "outputs": [
    {
     "data": {
      "text/plain": [
       "63006"
      ]
     },
     "execution_count": 10,
     "metadata": {},
     "output_type": "execute_result"
    }
   ],
   "source": [
    "over1000_data.category.sum()"
   ]
  },
  {
   "cell_type": "code",
   "execution_count": 11,
   "id": "d0aa16c6",
   "metadata": {},
   "outputs": [
    {
     "data": {
      "text/html": [
       "<div>\n",
       "<style scoped>\n",
       "    .dataframe tbody tr th:only-of-type {\n",
       "        vertical-align: middle;\n",
       "    }\n",
       "\n",
       "    .dataframe tbody tr th {\n",
       "        vertical-align: top;\n",
       "    }\n",
       "\n",
       "    .dataframe thead th {\n",
       "        text-align: right;\n",
       "    }\n",
       "</style>\n",
       "<table border=\"1\" class=\"dataframe\">\n",
       "  <thead>\n",
       "    <tr style=\"text-align: right;\">\n",
       "      <th></th>\n",
       "      <th>index</th>\n",
       "    </tr>\n",
       "  </thead>\n",
       "  <tbody>\n",
       "    <tr>\n",
       "      <th>0</th>\n",
       "      <td>メンズ &gt; 靴/シューズ &gt; スニーカー</td>\n",
       "    </tr>\n",
       "    <tr>\n",
       "      <th>1</th>\n",
       "      <td>エンタメ/ホビー &gt; おもちゃ/ぬいぐるみ &gt; キャラクターグッズ</td>\n",
       "    </tr>\n",
       "    <tr>\n",
       "      <th>2</th>\n",
       "      <td>エンタメ/ホビー &gt; フィギュア &gt; アニメ/ゲーム</td>\n",
       "    </tr>\n",
       "    <tr>\n",
       "      <th>3</th>\n",
       "      <td>エンタメ/ホビー &gt; CD &gt; ポップス/ロック(洋楽)</td>\n",
       "    </tr>\n",
       "    <tr>\n",
       "      <th>4</th>\n",
       "      <td>エンタメ/ホビー &gt; フィギュア &gt; 特撮</td>\n",
       "    </tr>\n",
       "    <tr>\n",
       "      <th>5</th>\n",
       "      <td>エンタメ/ホビー &gt; 美術品/アンティーク &gt; 絵画/タペストリー</td>\n",
       "    </tr>\n",
       "    <tr>\n",
       "      <th>6</th>\n",
       "      <td>スポーツ/アウトドア &gt; フィッシング &gt; ルアー用品</td>\n",
       "    </tr>\n",
       "    <tr>\n",
       "      <th>7</th>\n",
       "      <td>エンタメ/ホビー &gt; トレーディングカード &gt; シングルカード</td>\n",
       "    </tr>\n",
       "    <tr>\n",
       "      <th>8</th>\n",
       "      <td>エンタメ/ホビー &gt; おもちゃ/ぬいぐるみ &gt; ミニカー</td>\n",
       "    </tr>\n",
       "    <tr>\n",
       "      <th>9</th>\n",
       "      <td>エンタメ/ホビー &gt; CD &gt; アニメ</td>\n",
       "    </tr>\n",
       "    <tr>\n",
       "      <th>10</th>\n",
       "      <td>スマホ/家電/カメラ &gt; オーディオ機器 &gt; ヘッドフォン/イヤフォン</td>\n",
       "    </tr>\n",
       "    <tr>\n",
       "      <th>11</th>\n",
       "      <td>エンタメ/ホビー &gt; おもちゃ/ぬいぐるみ &gt; ぬいぐるみ</td>\n",
       "    </tr>\n",
       "    <tr>\n",
       "      <th>12</th>\n",
       "      <td>エンタメ/ホビー &gt; おもちゃ/ぬいぐるみ &gt; 模型/プラモデル</td>\n",
       "    </tr>\n",
       "    <tr>\n",
       "      <th>13</th>\n",
       "      <td>エンタメ/ホビー &gt; テレビゲーム &gt; 家庭用ゲームソフト</td>\n",
       "    </tr>\n",
       "    <tr>\n",
       "      <th>14</th>\n",
       "      <td>レディース &gt; ワンピース &gt; ひざ丈ワンピース</td>\n",
       "    </tr>\n",
       "    <tr>\n",
       "      <th>15</th>\n",
       "      <td>エンタメ/ホビー &gt; CD &gt; ポップス/ロック(邦楽)</td>\n",
       "    </tr>\n",
       "    <tr>\n",
       "      <th>16</th>\n",
       "      <td>楽器 &gt; ギター &gt; エレキギター</td>\n",
       "    </tr>\n",
       "    <tr>\n",
       "      <th>17</th>\n",
       "      <td>エンタメ/ホビー &gt; アニメグッズ &gt; その他</td>\n",
       "    </tr>\n",
       "    <tr>\n",
       "      <th>18</th>\n",
       "      <td>エンタメ/ホビー &gt; エンタメその他 &gt; その他</td>\n",
       "    </tr>\n",
       "    <tr>\n",
       "      <th>19</th>\n",
       "      <td>メンズ &gt; トップス &gt; Tシャツ/カットソー(半袖/袖なし)</td>\n",
       "    </tr>\n",
       "    <tr>\n",
       "      <th>20</th>\n",
       "      <td>インテリア/住まい/日用品 &gt; 文房具 &gt; ペン/マーカー</td>\n",
       "    </tr>\n",
       "    <tr>\n",
       "      <th>21</th>\n",
       "      <td>エンタメ/ホビー &gt; テレビゲーム &gt; 家庭用ゲーム本体</td>\n",
       "    </tr>\n",
       "  </tbody>\n",
       "</table>\n",
       "</div>"
      ],
      "text/plain": [
       "                                  index\n",
       "0                  メンズ > 靴/シューズ > スニーカー\n",
       "1     エンタメ/ホビー > おもちゃ/ぬいぐるみ > キャラクターグッズ\n",
       "2            エンタメ/ホビー > フィギュア > アニメ/ゲーム\n",
       "3          エンタメ/ホビー > CD > ポップス/ロック(洋楽)\n",
       "4                 エンタメ/ホビー > フィギュア > 特撮\n",
       "5     エンタメ/ホビー > 美術品/アンティーク > 絵画/タペストリー\n",
       "6           スポーツ/アウトドア > フィッシング > ルアー用品\n",
       "7       エンタメ/ホビー > トレーディングカード > シングルカード\n",
       "8          エンタメ/ホビー > おもちゃ/ぬいぐるみ > ミニカー\n",
       "9                   エンタメ/ホビー > CD > アニメ\n",
       "10  スマホ/家電/カメラ > オーディオ機器 > ヘッドフォン/イヤフォン\n",
       "11        エンタメ/ホビー > おもちゃ/ぬいぐるみ > ぬいぐるみ\n",
       "12     エンタメ/ホビー > おもちゃ/ぬいぐるみ > 模型/プラモデル\n",
       "13        エンタメ/ホビー > テレビゲーム > 家庭用ゲームソフト\n",
       "14             レディース > ワンピース > ひざ丈ワンピース\n",
       "15         エンタメ/ホビー > CD > ポップス/ロック(邦楽)\n",
       "16                    楽器 > ギター > エレキギター\n",
       "17              エンタメ/ホビー > アニメグッズ > その他\n",
       "18             エンタメ/ホビー > エンタメその他 > その他\n",
       "19      メンズ > トップス > Tシャツ/カットソー(半袖/袖なし)\n",
       "20        インテリア/住まい/日用品 > 文房具 > ペン/マーカー\n",
       "21         エンタメ/ホビー > テレビゲーム > 家庭用ゲーム本体"
      ]
     },
     "execution_count": 11,
     "metadata": {},
     "output_type": "execute_result"
    }
   ],
   "source": [
    "over1000_data[['index']]"
   ]
  },
  {
   "cell_type": "code",
   "execution_count": 12,
   "id": "a6aa85c0",
   "metadata": {},
   "outputs": [],
   "source": [
    "data = df.merge(over1000_data[['index']],left_on=\"category\", right_on=\"index\")"
   ]
  },
  {
   "cell_type": "code",
   "execution_count": 13,
   "id": "6bfd4a25",
   "metadata": {},
   "outputs": [
    {
     "data": {
      "text/plain": [
       "22"
      ]
     },
     "execution_count": 13,
     "metadata": {},
     "output_type": "execute_result"
    }
   ],
   "source": [
    "data.category.nunique()"
   ]
  },
  {
   "cell_type": "markdown",
   "id": "9de6d111",
   "metadata": {},
   "source": [
    "# テキストの前処理を行う"
   ]
  },
  {
   "cell_type": "code",
   "execution_count": 14,
   "id": "90bead48",
   "metadata": {},
   "outputs": [
    {
     "data": {
      "text/plain": [
       "0       テレカ 未使用品 仮面ライダー 生誕20周年 東映ビデオ販売 販促用非売品\n",
       "1       送料無料 新品 DVD Perfume WORLD TOUR 1st 初回\n",
       "2                      ☆ウルトラマン☆レーザーディスク ジャンク？\n",
       "3         MAISHA （マイシャ）Sadao Watanabe　渡辺貞夫★LD\n",
       "4    LD★PARKER'S MOOD（パーカーズ・ムード）LIVE AT BRAVA\n",
       "5         レーザーディスク １０枚セット★ロスト・イン・スペース★タイタニック \n",
       "6                               レーザーディスク７点セット\n",
       "7           LUPIN THE THIRD/ルパン三世　カリオストロの城　LD\n",
       "8         【カラオケＬＤ】パイオニア レーザーカラオケ ヒット８ ２０５（帯付）\n",
       "9         ★LD(レーザーディスク) WINGS OF LIGHT 松任谷由実★\n",
       "Name: title, dtype: object"
      ]
     },
     "execution_count": 14,
     "metadata": {},
     "output_type": "execute_result"
    }
   ],
   "source": [
    "data.title[:10]"
   ]
  },
  {
   "cell_type": "code",
   "execution_count": 15,
   "id": "a80ef213",
   "metadata": {},
   "outputs": [
    {
     "data": {
      "text/plain": [
       "dict_keys(['en', 'es', 'pt', 'it', 'fr', 'de'])"
      ]
     },
     "execution_count": 15,
     "metadata": {},
     "output_type": "execute_result"
    }
   ],
   "source": [
    "emoji.UNICODE_EMOJI.keys()"
   ]
  },
  {
   "cell_type": "code",
   "execution_count": 16,
   "id": "d255d104",
   "metadata": {},
   "outputs": [],
   "source": [
    "d = emoji.UNICODE_EMOJI\n",
    "emojis = \"\".join(d['en'].keys())"
   ]
  },
  {
   "cell_type": "code",
   "execution_count": 17,
   "id": "dccc69d2",
   "metadata": {},
   "outputs": [
    {
     "data": {
      "text/plain": [
       "'!\"#$%&\\'()*+,-./:;<=>?@[\\\\]^_`{|}~☆★◆■●【】『』「」'"
      ]
     },
     "execution_count": 17,
     "metadata": {},
     "output_type": "execute_result"
    }
   ],
   "source": [
    "puncs = string.punctuation + \"☆★◆■●【】『』「」\"\n",
    "puncs"
   ]
  },
  {
   "cell_type": "code",
   "execution_count": 18,
   "id": "0e1e6385",
   "metadata": {},
   "outputs": [],
   "source": [
    "def han2zen(txt):\n",
    "  txt = jctconv.h2z(txt, kana=True, digit=False, ascii=False)\n",
    "  return jctconv.z2h(txt, kana=False, digit=True, ascii=True)\n",
    "\n",
    "def remove_signs(txt):\n",
    "  rm_signs = emojis+puncs\n",
    "  for s in rm_signs:\n",
    "    txt = txt.replace(s, \" \")\n",
    "  return txt\n",
    "\n",
    "def clean_txt(txt):\n",
    "  txt = han2zen(txt)\n",
    "  txt = remove_signs(txt)\n",
    "  txt_list = txt.upper().split()\n",
    "  txt_list = [x for x in txt_list if len(x) > 1 and re.search(r\"[亜-熙ぁ-んァ-ヶa-zA-Z]\", x)]\n",
    "  return list(Counter(txt_list))"
   ]
  },
  {
   "cell_type": "code",
   "execution_count": 19,
   "id": "1e133181",
   "metadata": {},
   "outputs": [
    {
     "name": "stdout",
     "output_type": "stream",
     "text": [
      "t nike nike shoes 2000 【ナイキ】「 ア嗚呼\n",
      "['NIKE', 'SHOES', 'ナイキ', 'ア嗚呼']\n"
     ]
    }
   ],
   "source": [
    "t = \" \".join([\"nike\",\"nike\",\"shoes\",\"2000\",\"【ナイキ】「\",\"ア嗚呼\"])\n",
    "print(\"t\",t)\n",
    "print(clean_txt(t))"
   ]
  },
  {
   "cell_type": "code",
   "execution_count": null,
   "id": "13d8a162",
   "metadata": {},
   "outputs": [],
   "source": []
  },
  {
   "cell_type": "code",
   "execution_count": 20,
   "id": "bab0c779",
   "metadata": {},
   "outputs": [
    {
     "data": {
      "text/plain": [
       "63001                                         [マリオテニス]\n",
       "63002    [非売品, SWITCH, ポケットモンスター, ポケモンカードバトル, クリアファイル]\n",
       "63003      [新品未開封, 大乱闘スマッシュブラザーズ, SPECIAL, クロスクリーナー付き]\n",
       "63004      [新品未開封, 大乱闘スマッシュブラザーズ, SPECIAL, クロスクリーナー付き]\n",
       "63005      [新品未開封, 大乱闘スマッシュブラザーズ, SPECIAL, クロスクリーナー付き]\n",
       "Name: title, dtype: object"
      ]
     },
     "execution_count": 20,
     "metadata": {},
     "output_type": "execute_result"
    }
   ],
   "source": [
    "data.tail().title.apply(clean_txt)"
   ]
  },
  {
   "cell_type": "code",
   "execution_count": 21,
   "id": "f9bdd629",
   "metadata": {},
   "outputs": [],
   "source": [
    "data_title_ = data.title.apply(clean_txt)"
   ]
  },
  {
   "cell_type": "code",
   "execution_count": 22,
   "id": "606447cb",
   "metadata": {},
   "outputs": [
    {
     "data": {
      "text/plain": [
       "0              [テレカ, 未使用品, 仮面ライダー, 周年, 東映ビデオ販売, 販促用非売品]\n",
       "1         [送料無料, 新品, DVD, PERFUME, WORLD, TOUR, ST, 初回]\n",
       "2                              [ウルトラマン, レーザーディスク, ジャンク]\n",
       "3             [MAISHA, マイシャ, SADAO, WATANABE, 渡辺貞夫, LD]\n",
       "4        [LD, PARKER, MOOD, パーカーズ・ムード, LIVE, AT, BRAVA]\n",
       "                              ...                      \n",
       "63001                                          [マリオテニス]\n",
       "63002     [非売品, SWITCH, ポケットモンスター, ポケモンカードバトル, クリアファイル]\n",
       "63003       [新品未開封, 大乱闘スマッシュブラザーズ, SPECIAL, クロスクリーナー付き]\n",
       "63004       [新品未開封, 大乱闘スマッシュブラザーズ, SPECIAL, クロスクリーナー付き]\n",
       "63005       [新品未開封, 大乱闘スマッシュブラザーズ, SPECIAL, クロスクリーナー付き]\n",
       "Name: title, Length: 63006, dtype: object"
      ]
     },
     "execution_count": 22,
     "metadata": {},
     "output_type": "execute_result"
    }
   ],
   "source": [
    "data_title_"
   ]
  },
  {
   "cell_type": "markdown",
   "id": "bb6bd020",
   "metadata": {},
   "source": [
    "# テキストを数値に置き換える"
   ]
  },
  {
   "cell_type": "code",
   "execution_count": 23,
   "id": "09a9f50c",
   "metadata": {},
   "outputs": [],
   "source": [
    "# sklearn\n",
    "\n",
    "from sklearn.pipeline import Pipeline\n",
    "from sklearn.metrics import classification_report\n",
    "from sklearn.model_selection import train_test_split\n",
    "from sklearn.feature_extraction.text import CountVectorizer, TfidfTransformer\n",
    "from sklearn.ensemble import RandomForestClassifier\n",
    "from sklearn.naive_bayes import MultinomialNB\n"
   ]
  },
  {
   "cell_type": "code",
   "execution_count": null,
   "id": "6f292496",
   "metadata": {},
   "outputs": [],
   "source": []
  },
  {
   "cell_type": "code",
   "execution_count": 24,
   "id": "be412e7f",
   "metadata": {},
   "outputs": [],
   "source": [
    "category2idx = {c:idx for idx, c in enumerate(data.category.unique())}\n",
    "idx2category = {idx:c for idx, c in enumerate(data.category.unique())}"
   ]
  },
  {
   "cell_type": "code",
   "execution_count": 25,
   "id": "1a08cabe",
   "metadata": {},
   "outputs": [],
   "source": [
    "X = data.title\n",
    "y = data.category.apply(lambda x: category2idx[x])"
   ]
  },
  {
   "cell_type": "code",
   "execution_count": null,
   "id": "953e90e0",
   "metadata": {},
   "outputs": [],
   "source": []
  },
  {
   "cell_type": "markdown",
   "id": "ba1c037d",
   "metadata": {},
   "source": [
    "# データを学習させる"
   ]
  },
  {
   "cell_type": "code",
   "execution_count": 26,
   "id": "8da8b9db",
   "metadata": {},
   "outputs": [],
   "source": [
    "X_train, X_test, y_train, y_test = train_test_split(X, y, test_size=0.33, random_state=42)"
   ]
  },
  {
   "cell_type": "code",
   "execution_count": 27,
   "id": "b48fd4c8",
   "metadata": {},
   "outputs": [],
   "source": [
    "pipeline = Pipeline([\n",
    "  (\"bow\", CountVectorizer()),\n",
    "  (\"fridf\", TfidfTransformer()),\n",
    "  (\"classifier\", RandomForestClassifier()),\n",
    "  ])\n"
   ]
  },
  {
   "cell_type": "code",
   "execution_count": 28,
   "id": "a7a59c70",
   "metadata": {},
   "outputs": [
    {
     "data": {
      "text/plain": [
       "Pipeline(steps=[('bow', CountVectorizer()), ('fridf', TfidfTransformer()),\n",
       "                ('classifier', RandomForestClassifier())])"
      ]
     },
     "execution_count": 28,
     "metadata": {},
     "output_type": "execute_result"
    }
   ],
   "source": [
    "pipeline.fit(X_train,y_train)"
   ]
  },
  {
   "cell_type": "code",
   "execution_count": 29,
   "id": "9a664fe5",
   "metadata": {},
   "outputs": [],
   "source": [
    "pred = pipeline.predict(X_test)"
   ]
  },
  {
   "cell_type": "markdown",
   "id": "b8180000",
   "metadata": {},
   "source": [
    "# 精度を評価する"
   ]
  },
  {
   "cell_type": "code",
   "execution_count": 30,
   "id": "82988462",
   "metadata": {},
   "outputs": [
    {
     "name": "stdout",
     "output_type": "stream",
     "text": [
      "              precision    recall  f1-score   support\n",
      "\n",
      "           0       0.88      0.64      0.74       406\n",
      "           1       0.90      0.93      0.91      1189\n",
      "           2       0.88      0.77      0.82       422\n",
      "           3       0.88      0.83      0.85       699\n",
      "           4       0.62      0.89      0.73      3577\n",
      "           5       0.75      0.38      0.51       395\n",
      "           6       0.89      0.82      0.85      2138\n",
      "           7       0.85      0.79      0.82      1033\n",
      "           8       0.93      0.88      0.91       460\n",
      "           9       0.95      0.82      0.88       379\n",
      "          10       0.96      0.83      0.89       871\n",
      "          11       0.80      0.57      0.66       481\n",
      "          12       0.89      0.73      0.81       430\n",
      "          13       0.93      0.79      0.85       399\n",
      "          14       0.99      0.95      0.97       535\n",
      "          15       0.94      0.90      0.92       830\n",
      "          16       0.99      0.79      0.88       396\n",
      "          17       0.99      0.97      0.98      3673\n",
      "          18       1.00      0.97      0.98       964\n",
      "          19       0.94      0.85      0.89       694\n",
      "          20       0.97      0.77      0.86       346\n",
      "          21       0.91      0.75      0.82       475\n",
      "\n",
      "    accuracy                           0.86     20792\n",
      "   macro avg       0.90      0.80      0.84     20792\n",
      "weighted avg       0.88      0.86      0.86     20792\n",
      "\n"
     ]
    }
   ],
   "source": [
    "print(classification_report(y_test,pred))"
   ]
  },
  {
   "cell_type": "code",
   "execution_count": 31,
   "id": "e414ac78",
   "metadata": {},
   "outputs": [
    {
     "data": {
      "text/plain": [
       "'メンズ > 靴/シューズ > スニーカー'"
      ]
     },
     "execution_count": 31,
     "metadata": {},
     "output_type": "execute_result"
    }
   ],
   "source": [
    "idx2category[17]"
   ]
  },
  {
   "cell_type": "code",
   "execution_count": null,
   "id": "2af69743",
   "metadata": {},
   "outputs": [],
   "source": []
  },
  {
   "cell_type": "code",
   "execution_count": 32,
   "id": "19fb578d",
   "metadata": {},
   "outputs": [
    {
     "name": "stdout",
     "output_type": "stream",
     "text": [
      "              precision    recall  f1-score   support\n",
      "\n",
      "           0       0.88      0.64      0.74       406\n",
      "           1       0.90      0.93      0.91      1189\n",
      "           2       0.88      0.77      0.82       422\n",
      "           3       0.88      0.83      0.85       699\n",
      "           4       0.62      0.89      0.73      3577\n",
      "           5       0.75      0.38      0.51       395\n",
      "           6       0.89      0.82      0.85      2138\n",
      "           7       0.85      0.79      0.82      1033\n",
      "           8       0.93      0.88      0.91       460\n",
      "           9       0.95      0.82      0.88       379\n",
      "          10       0.96      0.83      0.89       871\n",
      "          11       0.80      0.57      0.66       481\n",
      "          12       0.89      0.73      0.81       430\n",
      "          13       0.93      0.79      0.85       399\n",
      "          14       0.99      0.95      0.97       535\n",
      "          15       0.94      0.90      0.92       830\n",
      "          16       0.99      0.79      0.88       396\n",
      "          17       0.99      0.97      0.98      3673\n",
      "          18       1.00      0.97      0.98       964\n",
      "          19       0.94      0.85      0.89       694\n",
      "          20       0.97      0.77      0.86       346\n",
      "          21       0.91      0.75      0.82       475\n",
      "\n",
      "    accuracy                           0.86     20792\n",
      "   macro avg       0.90      0.80      0.84     20792\n",
      "weighted avg       0.88      0.86      0.86     20792\n",
      "\n"
     ]
    }
   ],
   "source": [
    "print(classification_report(y_test,pred))"
   ]
  },
  {
   "cell_type": "code",
   "execution_count": null,
   "id": "b488778c",
   "metadata": {},
   "outputs": [],
   "source": []
  },
  {
   "cell_type": "markdown",
   "id": "f7c89fe5",
   "metadata": {},
   "source": [
    "# 学習済みモデルを保存する"
   ]
  },
  {
   "cell_type": "code",
   "execution_count": 33,
   "id": "bea96703",
   "metadata": {},
   "outputs": [
    {
     "data": {
      "text/plain": [
       "'メンズ > 靴/シューズ > スニーカー'"
      ]
     },
     "execution_count": 33,
     "metadata": {},
     "output_type": "execute_result"
    }
   ],
   "source": [
    "target = [\"New balance 990 V4 IG 27.5cm ニューバランス\"]\n",
    "target = [\"新品　オニツカタイガー 25.0cm\"]\n",
    "prediction = pipeline.predict(target)\n",
    "idx2category[prediction[0]]"
   ]
  },
  {
   "cell_type": "code",
   "execution_count": 34,
   "id": "b0e4870d",
   "metadata": {},
   "outputs": [],
   "source": [
    "import pickle"
   ]
  },
  {
   "cell_type": "code",
   "execution_count": 35,
   "id": "394c4e6f",
   "metadata": {},
   "outputs": [],
   "source": [
    "with open(\"rdmf.pickle\", mode=\"wb\") as f:\n",
    "  pickle.dump(pipeline, f)"
   ]
  },
  {
   "cell_type": "code",
   "execution_count": 36,
   "id": "59a71693",
   "metadata": {},
   "outputs": [
    {
     "name": "stdout",
     "output_type": "stream",
     "text": [
      "\u001b[0m\u001b[01;32mPython_Django_scikit_learnでAIアプリを開発.ipynb\u001b[0m*  \u001b[01;32mmanage.py\u001b[0m*\n",
      "\u001b[34;42mai_app\u001b[0m/                                            \u001b[34;42mmyvenv\u001b[0m/\n",
      "\u001b[01;32mall_rakuma.csv\u001b[0m*                                    \u001b[34;42mnlp\u001b[0m/\n",
      "\u001b[01;32mdb.sqlite3\u001b[0m*                                        \u001b[01;32mrdmf.pickle\u001b[0m*\n",
      "\u001b[01;32midx2category.csv\u001b[0m*                                  \u001b[01;32mrequirements.txt\u001b[0m*\n"
     ]
    }
   ],
   "source": [
    "ls"
   ]
  },
  {
   "cell_type": "code",
   "execution_count": 37,
   "id": "130c310b",
   "metadata": {},
   "outputs": [],
   "source": [
    "with open(\"rdmf.pickle\", mode=\"rb\") as ff:\n",
    "  model = pickle.load(ff)\n"
   ]
  },
  {
   "cell_type": "code",
   "execution_count": 38,
   "id": "14750365",
   "metadata": {},
   "outputs": [
    {
     "data": {
      "text/plain": [
       "array([17])"
      ]
     },
     "execution_count": 38,
     "metadata": {},
     "output_type": "execute_result"
    }
   ],
   "source": [
    "model.predict(target)"
   ]
  },
  {
   "cell_type": "code",
   "execution_count": 39,
   "id": "afa34951",
   "metadata": {},
   "outputs": [],
   "source": [
    "pd.DataFrame([{\"k\":k,\"v\":v} for k,v in idx2category.items()]).to_csv(\"idx2category.csv\", index=False)"
   ]
  },
  {
   "cell_type": "code",
   "execution_count": 40,
   "id": "e7bdcf1e",
   "metadata": {},
   "outputs": [
    {
     "data": {
      "text/plain": [
       "{0: 'エンタメ/ホビー > エンタメその他 > その他',\n",
       " 1: 'エンタメ/ホビー > CD > ポップス/ロック(洋楽)',\n",
       " 2: 'エンタメ/ホビー > CD > ポップス/ロック(邦楽)',\n",
       " 3: 'エンタメ/ホビー > CD > アニメ',\n",
       " 4: 'エンタメ/ホビー > おもちゃ/ぬいぐるみ > キャラクターグッズ',\n",
       " 5: 'エンタメ/ホビー > アニメグッズ > その他',\n",
       " 6: 'エンタメ/ホビー > フィギュア > アニメ/ゲーム',\n",
       " 7: 'エンタメ/ホビー > フィギュア > 特撮',\n",
       " 8: 'レディース > ワンピース > ひざ丈ワンピース',\n",
       " 9: 'インテリア/住まい/日用品 > 文房具 > ペン/マーカー',\n",
       " 10: 'スポーツ/アウトドア > フィッシング > ルアー用品',\n",
       " 11: 'エンタメ/ホビー > おもちゃ/ぬいぐるみ > ぬいぐるみ',\n",
       " 12: 'エンタメ/ホビー > おもちゃ/ぬいぐるみ > 模型/プラモデル',\n",
       " 13: 'メンズ > トップス > Tシャツ/カットソー(半袖/袖なし)',\n",
       " 14: 'スマホ/家電/カメラ > オーディオ機器 > ヘッドフォン/イヤフォン',\n",
       " 15: 'エンタメ/ホビー > トレーディングカード > シングルカード',\n",
       " 16: '楽器 > ギター > エレキギター',\n",
       " 17: 'メンズ > 靴/シューズ > スニーカー',\n",
       " 18: 'エンタメ/ホビー > 美術品/アンティーク > 絵画/タペストリー',\n",
       " 19: 'エンタメ/ホビー > おもちゃ/ぬいぐるみ > ミニカー',\n",
       " 20: 'エンタメ/ホビー > テレビゲーム > 家庭用ゲーム本体',\n",
       " 21: 'エンタメ/ホビー > テレビゲーム > 家庭用ゲームソフト'}"
      ]
     },
     "execution_count": 40,
     "metadata": {},
     "output_type": "execute_result"
    }
   ],
   "source": [
    "{row.k:row.v for idx, row in pd.read_csv(\"idx2category.csv\").iterrows()}"
   ]
  },
  {
   "cell_type": "code",
   "execution_count": 41,
   "id": "dabf46ee",
   "metadata": {},
   "outputs": [
    {
     "data": {
      "text/plain": [
       "{'エンタメ/ホビー > エンタメその他 > その他': 0,\n",
       " 'エンタメ/ホビー > CD > ポップス/ロック(洋楽)': 1,\n",
       " 'エンタメ/ホビー > CD > ポップス/ロック(邦楽)': 2,\n",
       " 'エンタメ/ホビー > CD > アニメ': 3,\n",
       " 'エンタメ/ホビー > おもちゃ/ぬいぐるみ > キャラクターグッズ': 4,\n",
       " 'エンタメ/ホビー > アニメグッズ > その他': 5,\n",
       " 'エンタメ/ホビー > フィギュア > アニメ/ゲーム': 6,\n",
       " 'エンタメ/ホビー > フィギュア > 特撮': 7,\n",
       " 'レディース > ワンピース > ひざ丈ワンピース': 8,\n",
       " 'インテリア/住まい/日用品 > 文房具 > ペン/マーカー': 9,\n",
       " 'スポーツ/アウトドア > フィッシング > ルアー用品': 10,\n",
       " 'エンタメ/ホビー > おもちゃ/ぬいぐるみ > ぬいぐるみ': 11,\n",
       " 'エンタメ/ホビー > おもちゃ/ぬいぐるみ > 模型/プラモデル': 12,\n",
       " 'メンズ > トップス > Tシャツ/カットソー(半袖/袖なし)': 13,\n",
       " 'スマホ/家電/カメラ > オーディオ機器 > ヘッドフォン/イヤフォン': 14,\n",
       " 'エンタメ/ホビー > トレーディングカード > シングルカード': 15,\n",
       " '楽器 > ギター > エレキギター': 16,\n",
       " 'メンズ > 靴/シューズ > スニーカー': 17,\n",
       " 'エンタメ/ホビー > 美術品/アンティーク > 絵画/タペストリー': 18,\n",
       " 'エンタメ/ホビー > おもちゃ/ぬいぐるみ > ミニカー': 19,\n",
       " 'エンタメ/ホビー > テレビゲーム > 家庭用ゲーム本体': 20,\n",
       " 'エンタメ/ホビー > テレビゲーム > 家庭用ゲームソフト': 21}"
      ]
     },
     "execution_count": 41,
     "metadata": {},
     "output_type": "execute_result"
    }
   ],
   "source": [
    "{row.v:row.k for idx, row in pd.read_csv(\"idx2category.csv\").iterrows()}"
   ]
  },
  {
   "cell_type": "code",
   "execution_count": null,
   "id": "58cab5a0",
   "metadata": {},
   "outputs": [],
   "source": []
  }
 ],
 "metadata": {
  "kernelspec": {
   "display_name": "Python 3 (ipykernel)",
   "language": "python",
   "name": "python3"
  },
  "language_info": {
   "codemirror_mode": {
    "name": "ipython",
    "version": 3
   },
   "file_extension": ".py",
   "mimetype": "text/x-python",
   "name": "python",
   "nbconvert_exporter": "python",
   "pygments_lexer": "ipython3",
   "version": "3.8.12"
  }
 },
 "nbformat": 4,
 "nbformat_minor": 5
}
